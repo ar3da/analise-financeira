{
  "nbformat": 4,
  "nbformat_minor": 0,
  "metadata": {
    "colab": {
      "provenance": [],
      "authorship_tag": "ABX9TyPU0UNfPDG1aBZjS0xzG7kI",
      "include_colab_link": true
    },
    "kernelspec": {
      "name": "python3",
      "display_name": "Python 3"
    },
    "language_info": {
      "name": "python"
    }
  },
  "cells": [
    {
      "cell_type": "markdown",
      "metadata": {
        "id": "view-in-github",
        "colab_type": "text"
      },
      "source": [
        "<a href=\"https://colab.research.google.com/github/ar3da/analise-financeira/blob/main/ANALISE_DE_DADOS_DIA_1.ipynb\" target=\"_parent\"><img src=\"https://colab.research.google.com/assets/colab-badge.svg\" alt=\"Open In Colab\"/></a>"
      ]
    },
    {
      "cell_type": "code",
      "execution_count": 1,
      "metadata": {
        "colab": {
          "base_uri": "https://localhost:8080/"
        },
        "id": "V1VaVvqzkLi9",
        "outputId": "29efc332-2a80-4551-ad0d-16072eee6a0d"
      },
      "outputs": [
        {
          "output_type": "stream",
          "name": "stdout",
          "text": [
            "Olá mundo!!! Irei seguir carreira em analise de dados\n"
          ]
        }
      ],
      "source": [
        "print(\"Olá mundo!!! Irei seguir carreira em analise de dados\")"
      ]
    },
    {
      "cell_type": "code",
      "source": [
        "print(\"Meu nome é Areda\")"
      ],
      "metadata": {
        "colab": {
          "base_uri": "https://localhost:8080/"
        },
        "id": "Vf7HJT9jk2sh",
        "outputId": "8aeaf32f-a26a-4a9a-d591-dbfdcc664a5f"
      },
      "execution_count": 2,
      "outputs": [
        {
          "output_type": "stream",
          "name": "stdout",
          "text": [
            "Meu nome é Areda\n"
          ]
        }
      ]
    },
    {
      "cell_type": "code",
      "source": [
        "#Trabalhando com números e operações matemáticas\n",
        "\n",
        "soma = 2 + 2\n",
        "subtracao = 2 - 2\n",
        "multiplicacao = 2 * 2\n",
        "divisao = 2 / 2\n",
        "\n",
        "print(soma)\n",
        "print(subtracao)\n",
        "print(multiplicacao)\n",
        "print(divisao)\n",
        "#"
      ],
      "metadata": {
        "colab": {
          "base_uri": "https://localhost:8080/"
        },
        "id": "-vV-YnAbk-0j",
        "outputId": "5dd0d04e-1244-494a-bf39-489ba3c11112"
      },
      "execution_count": 3,
      "outputs": [
        {
          "output_type": "stream",
          "name": "stdout",
          "text": [
            "4\n",
            "0\n",
            "4\n",
            "1.0\n"
          ]
        }
      ]
    },
    {
      "cell_type": "code",
      "source": [
        "#Trabalhando com variáveis\n",
        "\n",
        "nome = \"Areda\"\n",
        "idade = 21\n",
        "salario = 1518.00\n",
        "\n",
        "\n",
        "print(\"Meu nome é {}\".format(nome))\n",
        "print(\"Tenho {} anos\".format(idade))\n",
        "print(\"Recebo R${}\".format(salario))\n"
      ],
      "metadata": {
        "colab": {
          "base_uri": "https://localhost:8080/"
        },
        "id": "sO_m_RXBlqNb",
        "outputId": "dd8b82a0-ee8c-4700-9128-25b35726f731"
      },
      "execution_count": 6,
      "outputs": [
        {
          "output_type": "stream",
          "name": "stdout",
          "text": [
            "Meu nome é Areda\n",
            "Tenho 21 anos\n",
            "Recebo R$1518.0\n"
          ]
        }
      ]
    },
    {
      "cell_type": "code",
      "source": [
        "#Verificando o tipo de variavel\n",
        "\n",
        "print(type(nome))     # string (texto)\n",
        "print(type(idade))    # int (número inteiro)\n",
        "print(type(salario))  # float (número decimal)"
      ],
      "metadata": {
        "colab": {
          "base_uri": "https://localhost:8080/"
        },
        "id": "N4wx8Uvrmbfi",
        "outputId": "f53c0d0a-b686-435b-ce4e-61372214f069"
      },
      "execution_count": 8,
      "outputs": [
        {
          "output_type": "stream",
          "name": "stdout",
          "text": [
            "<class 'str'>\n",
            "<class 'int'>\n",
            "<class 'float'>\n"
          ]
        }
      ]
    },
    {
      "cell_type": "code",
      "source": [
        "#EXERCICIO PRÁTICO DIA 1: CÁLCULO DE FINANÇAS\n",
        "\n",
        "salario = 1318\n",
        "mercado = 450\n",
        "contas = 550\n",
        "\n",
        "sobra = salario - mercado - contas\n",
        "\n",
        "print(\"Sobrou R${}\".format(sobra))"
      ],
      "metadata": {
        "colab": {
          "base_uri": "https://localhost:8080/"
        },
        "id": "6kyJMYASm3SP",
        "outputId": "97e46250-237a-4191-ca4b-258a3bde4c6b"
      },
      "execution_count": 11,
      "outputs": [
        {
          "output_type": "stream",
          "name": "stdout",
          "text": [
            "Sobrou R$318\n"
          ]
        }
      ]
    }
  ]
}